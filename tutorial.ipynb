{
 "cells": [
  {
   "cell_type": "code",
   "execution_count": 2,
   "metadata": {},
   "outputs": [],
   "source": [
    "import os\n",
    "from pathlib import Path\n",
    "import json\n",
    "import numpy as np\n",
    "import torch\n",
    "import torch.nn as nn\n",
    "\n",
    "import matplotlib.pyplot as plt\n",
    "import seaborn as sns\n",
    "import os\n",
    "import json\n",
    "import torch.nn.functional as F\n"
   ]
  },
  {
   "cell_type": "markdown",
   "metadata": {},
   "source": [
    "Load the np arrays (not on github b/c too big)"
   ]
  },
  {
   "cell_type": "code",
   "execution_count": 3,
   "metadata": {},
   "outputs": [],
   "source": [
    "small_array = np.load('small_rnn.npy')\n",
    "multitask_array = np.load('multitask_rnn.npy')"
   ]
  },
  {
   "cell_type": "markdown",
   "metadata": {},
   "source": [
    "Navigating Array\n",
    "Array dims: (trial, timestep, data)"
   ]
  },
  {
   "cell_type": "code",
   "execution_count": 6,
   "metadata": {},
   "outputs": [
    {
     "name": "stdout",
     "output_type": "stream",
     "text": [
      "(10000, 100, 311)\n",
      "(10000, 10, 55)\n"
     ]
    }
   ],
   "source": [
    "print(multitask_array.shape)\n",
    "print(small_array.shape)"
   ]
  },
  {
   "cell_type": "code",
   "execution_count": 10,
   "metadata": {},
   "outputs": [
    {
     "name": "stdout",
     "output_type": "stream",
     "text": [
      "(10, 55)\n",
      "(55,)\n"
     ]
    }
   ],
   "source": [
    "# Access 1 trial:\n",
    "print(small_array[0].shape) \n",
    "# Access 1 timestep of the trial:\n",
    "print(small_array[0, 0].shape) \n"
   ]
  },
  {
   "cell_type": "markdown",
   "metadata": {},
   "source": [
    "Unpacking trial data:\n",
    "data = inputs, label, predicted, hidden states\n",
    "so for the small 1 task rnn with input size 33, label size 1, prediction size 1, and 20 units/hidden states"
   ]
  },
  {
   "cell_type": "code",
   "execution_count": 11,
   "metadata": {},
   "outputs": [],
   "source": [
    "data = small_array[0, 0]\n",
    "inputs = data[:33]\n",
    "label = data[33:34]\n",
    "prediction = data[34:35]\n",
    "hidden_states = data[35:]"
   ]
  },
  {
   "cell_type": "markdown",
   "metadata": {},
   "source": [
    "For large multitask rnn with input size 53 (33 normal inputs + 20 one hot encoded task vectors), label size 1, prediction size 1, and 256 units/hidden states"
   ]
  },
  {
   "cell_type": "code",
   "execution_count": 12,
   "metadata": {},
   "outputs": [],
   "source": [
    "data = multitask_array[0, 0]\n",
    "inputs = data[:53] # fixation input then 2 size 16 rings, then 20 one hot encoded task vector\n",
    "label = data[53:54]\n",
    "prediction = data[54:55]\n",
    "hidden_states = data[55:]"
   ]
  }
 ],
 "metadata": {
  "kernelspec": {
   "display_name": ".venv",
   "language": "python",
   "name": "python3"
  },
  "language_info": {
   "codemirror_mode": {
    "name": "ipython",
    "version": 3
   },
   "file_extension": ".py",
   "mimetype": "text/x-python",
   "name": "python",
   "nbconvert_exporter": "python",
   "pygments_lexer": "ipython3",
   "version": "3.11.6"
  }
 },
 "nbformat": 4,
 "nbformat_minor": 2
}
